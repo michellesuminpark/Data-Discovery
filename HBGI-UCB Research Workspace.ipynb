{
 "cells": [
  {
   "cell_type": "markdown",
   "metadata": {},
   "source": [
    "# **Homelessness and Mental Illness in California: towards a new scale of outcomes**"
   ]
  },
  {
   "cell_type": "markdown",
   "metadata": {},
   "source": [
    "*Conducted by Healthy Brains Global Initiative (HBGI)*\n",
    "\n",
    "*Student Team: Su Min Park, Stephanie Wong, Brianna Alexis Cortez, Ethan Rubin.*"
   ]
  },
  {
   "cell_type": "markdown",
   "metadata": {},
   "source": [
    "## Project Scope"
   ]
  },
  {
   "cell_type": "markdown",
   "metadata": {},
   "source": [
    "**QUESTIONS TASKED**\n",
    "\n",
    "1. How many FSPs are there and how many people are they serving?\n",
    "2. How many people need FSPs?\n",
    "3. How many people are receiving FSPs?\n",
    "4. How many people who need FSPs are being served?\n",
    "5. How many people who do not need FSPs are being served?"
   ]
  },
  {
   "cell_type": "markdown",
   "metadata": {},
   "source": [
    "**Further Contacted:**\n",
    "* Sacramento: Julie Leung| MHSA Program Planner (MHSA Coordinator)| leungi@saccounty.net| 916-875-4044\n",
    "* Nevada: Priya Kannall| MHSA Coordinator| Priya.Kannall@nevadacountyca.gov| 530-265-1790\n",
    "* San Francisco: Jessica Brown| MHSA Director| jessica.n.brown@sfdph.org| 415-255-3963\n",
    "* Los Angeles: Kalene Gilbert, L.C.S.W.| MHSA Coordinator| KGilbert@dmh.lacounty.gov| 213-943-8223\n",
    "* San Diego: Erendy Fong| Chief, Agency Operations - Strategy and Finance| Erendy.Fong@sdcounty.ca.gov| 619-381-0750\n",
    "    * Didn't had MHSA Coordinator \n",
    "* Orange: Jenny Hudson| MHSA Coordinator| JHudson@ochca.com| 714-834-3890\n",
    "\n",
    "\n",
    "Stephanie Wong <stephwong@berkeley.edu>,\n",
    "Rachel Munyiri <rachel.munyiri@hbgi.org>\n",
    "Ethan Rubin <erubin25@berkeley.edu>\n",
    "jonathan.sherin@gmail.com <jonathan.sherin@gmail.com>,\n",
    "Brianna Cortes <briannacortes@berkeley.edu>\n",
    "\n",
    "\n"
   ]
  },
  {
   "cell_type": "markdown",
   "metadata": {},
   "source": [
    "## Code "
   ]
  },
  {
   "cell_type": "code",
   "execution_count": 1,
   "metadata": {},
   "outputs": [
    {
     "name": "stderr",
     "output_type": "stream",
     "text": [
      "/Library/Frameworks/Python.framework/Versions/3.9/lib/python3.9/site-packages/scipy/__init__.py:132: UserWarning: A NumPy version >=1.21.6 and <1.28.0 is required for this version of SciPy (detected version 1.21.2)\n",
      "  warnings.warn(f\"A NumPy version >={np_minversion} and <{np_maxversion}\"\n"
     ]
    },
    {
     "data": {
      "text/html": [
       "        <script type=\"text/javascript\">\n",
       "        window.PlotlyConfig = {MathJaxConfig: 'local'};\n",
       "        if (window.MathJax && window.MathJax.Hub && window.MathJax.Hub.Config) {window.MathJax.Hub.Config({SVG: {font: \"STIX-Web\"}});}\n",
       "        if (typeof require !== 'undefined') {\n",
       "        require.undef(\"plotly\");\n",
       "        requirejs.config({\n",
       "            paths: {\n",
       "                'plotly': ['https://cdn.plot.ly/plotly-2.26.0.min']\n",
       "            }\n",
       "        });\n",
       "        require(['plotly'], function(Plotly) {\n",
       "            window._Plotly = Plotly;\n",
       "        });\n",
       "        }\n",
       "        </script>\n",
       "        "
      ]
     },
     "metadata": {},
     "output_type": "display_data"
    }
   ],
   "source": [
    "# Linear algebra, probability\n",
    "import numpy as np\n",
    "\n",
    "# Data manipulation\n",
    "import pandas as pd\n",
    "\n",
    "# Visualization\n",
    "import matplotlib.pyplot as plt\n",
    "import seaborn as sns\n",
    "\n",
    "# Interactive visualization library\n",
    "import plotly.offline as py\n",
    "py.init_notebook_mode(connected=True)\n",
    "import plotly.graph_objs as go\n",
    "import plotly.figure_factory as ff\n",
    "import plotly.express as px"
   ]
  },
  {
   "cell_type": "markdown",
   "metadata": {},
   "source": [
    "### **Importing Data**"
   ]
  },
  {
   "cell_type": "markdown",
   "metadata": {},
   "source": [
    "#### *GitHub Version.*"
   ]
  },
  {
   "cell_type": "code",
   "execution_count": null,
   "metadata": {},
   "outputs": [],
   "source": [
    "# write the path you are in, for instance by opening up terminal on your laptop to find your name \n",
    "path = \"/Users/suminpark/Documents/GitHub/Data-Discovery/data/\" \n",
    "\n",
    "\n",
    "# Demographics Data\n",
    "demographic_fsp = pd.read_csv('fsp_demographics.csv')\n",
    "dem_hl_eth = pd.read_csv('homeless_ca_eth.csv')\n",
    "dem_hl_age = pd.read_csv('homeless_ca_age.csv')\n",
    "\n",
    "# FSP served / count per \n",
    "nev_cost_per =  pd.read_csv('nevada_est_cost_per.csv')\n",
    "sac_cost_per =  pd.read_csv('sacFY2122_cost_per.csv')\n",
    "sf_cost_per =  pd.read_csv('sf_est_expenditures.csv')\n",
    "\n",
    "la_cost_per = \n",
    "or_cost_per = \n",
    "sd_cost_per = \n",
    "\n",
    "# CSS related Budget & Revenue  Data \n",
    "nev_cost_budget = \n",
    "sac_cost_budget = \n",
    "sf_cost_budegt = \n",
    "\n",
    "la_cost_budget = \n",
    "or_cost_budget = \n",
    "sd_cost_per = "
   ]
  },
  {
   "cell_type": "markdown",
   "metadata": {},
   "source": [
    "#### *Google Colab Version.*"
   ]
  },
  {
   "cell_type": "code",
   "execution_count": null,
   "metadata": {},
   "outputs": [],
   "source": [
    "# first download all the csv files in 'data' folder\n"
   ]
  },
  {
   "cell_type": "markdown",
   "metadata": {},
   "source": [
    "### Data Cleaning "
   ]
  },
  {
   "cell_type": "code",
   "execution_count": null,
   "metadata": {},
   "outputs": [],
   "source": []
  },
  {
   "cell_type": "markdown",
   "metadata": {},
   "source": [
    "### Exploratory Data Analysis (EDA)"
   ]
  },
  {
   "cell_type": "code",
   "execution_count": null,
   "metadata": {},
   "outputs": [],
   "source": []
  },
  {
   "cell_type": "markdown",
   "metadata": {},
   "source": [
    "### Visualization & Analysis"
   ]
  },
  {
   "cell_type": "markdown",
   "metadata": {},
   "source": [
    "##### Question 1: *How many FSPs are there and how many people are they serving?*"
   ]
  },
  {
   "cell_type": "code",
   "execution_count": null,
   "metadata": {},
   "outputs": [],
   "source": []
  },
  {
   "cell_type": "markdown",
   "metadata": {},
   "source": [
    "##### Question 2: *How many people need FSPs?* "
   ]
  },
  {
   "cell_type": "code",
   "execution_count": null,
   "metadata": {},
   "outputs": [],
   "source": []
  },
  {
   "cell_type": "markdown",
   "metadata": {},
   "source": [
    "##### Question 3: *How many people are receiving FSPs?*"
   ]
  },
  {
   "cell_type": "code",
   "execution_count": null,
   "metadata": {},
   "outputs": [],
   "source": []
  },
  {
   "cell_type": "markdown",
   "metadata": {},
   "source": [
    " ##### Questions 4 & 5: *How many people who need FSPs are being served?* & *How many people who do not need FSPs are being served?*"
   ]
  },
  {
   "cell_type": "code",
   "execution_count": null,
   "metadata": {},
   "outputs": [],
   "source": []
  },
  {
   "cell_type": "markdown",
   "metadata": {},
   "source": [
    "### *Replicability of this Research* "
   ]
  },
  {
   "cell_type": "markdown",
   "metadata": {},
   "source": []
  }
 ],
 "metadata": {
  "kernelspec": {
   "display_name": "Python 3.9.0 64-bit",
   "language": "python",
   "name": "python3"
  },
  "language_info": {
   "codemirror_mode": {
    "name": "ipython",
    "version": 3
   },
   "file_extension": ".py",
   "mimetype": "text/x-python",
   "name": "python",
   "nbconvert_exporter": "python",
   "pygments_lexer": "ipython3",
   "version": "3.9.0"
  },
  "orig_nbformat": 4,
  "vscode": {
   "interpreter": {
    "hash": "aee8b7b246df8f9039afb4144a1f6fd8d2ca17a180786b69acc140d282b71a49"
   }
  }
 },
 "nbformat": 4,
 "nbformat_minor": 2
}

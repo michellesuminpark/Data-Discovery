{
 "cells": [
  {
   "cell_type": "markdown",
   "metadata": {},
   "source": [
    "## Project Scope"
   ]
  },
  {
   "cell_type": "markdown",
   "metadata": {},
   "source": [
    "*Conducted by Healthy Brains Global Initiative (HBGI)*\n",
    "\n",
    "*Student Team: Su Min Park, Stephanie Wong, Brianna Alexis Cortez, Ethan Rubin.*"
   ]
  },
  {
   "cell_type": "markdown",
   "metadata": {},
   "source": [
    "**HBGI Contact:** \n",
    "* jonathan.sherin@gmail.com <jonathan.sherin@gmail.com>\n",
    "* Rachel Munyiri <rachel.munyiri@hbgi.org>\n",
    "\n",
    "**UC Berkeley Student Team:**\n",
    "* Su Min Park <m.suminpark@berkeley.edu>\n",
    "* Stephanie Wong <stephwong@berkeley.edu>\n",
    "* Brianna Cortes <briannacortes@berkeley.edu>\n",
    "* Ethan Rubin <erubin25@berkeley.edu>"
   ]
  },
  {
   "cell_type": "markdown",
   "metadata": {},
   "source": [
    "**QUESTIONS TASKED**\n",
    "\n",
    "1. How many FSPs are there and how many people are they serving?\n",
    "2. How many people need FSPs?\n",
    "3. How many people are receiving FSPs?\n",
    "4. How many people who need FSPs are being served?\n",
    "5. How many people who do not need FSPs are being served?"
   ]
  },
  {
   "cell_type": "markdown",
   "metadata": {},
   "source": [
    "## Importing Library"
   ]
  },
  {
   "cell_type": "code",
   "execution_count": 105,
   "metadata": {},
   "outputs": [
    {
     "data": {
      "text/html": [
       "        <script type=\"text/javascript\">\n",
       "        window.PlotlyConfig = {MathJaxConfig: 'local'};\n",
       "        if (window.MathJax && window.MathJax.Hub && window.MathJax.Hub.Config) {window.MathJax.Hub.Config({SVG: {font: \"STIX-Web\"}});}\n",
       "        if (typeof require !== 'undefined') {\n",
       "        require.undef(\"plotly\");\n",
       "        requirejs.config({\n",
       "            paths: {\n",
       "                'plotly': ['https://cdn.plot.ly/plotly-2.26.0.min']\n",
       "            }\n",
       "        });\n",
       "        require(['plotly'], function(Plotly) {\n",
       "            window._Plotly = Plotly;\n",
       "        });\n",
       "        }\n",
       "        </script>\n",
       "        "
      ]
     },
     "metadata": {},
     "output_type": "display_data"
    }
   ],
   "source": [
    "# Linear algebra, probability\n",
    "import numpy as np\n",
    "\n",
    "# Data manipulation\n",
    "import pandas as pd\n",
    "\n",
    "# Visualization\n",
    "import matplotlib.pyplot as plt\n",
    "import seaborn as sns\n",
    "\n",
    "# Interactive visualization library\n",
    "import plotly.offline as py\n",
    "py.init_notebook_mode(connected=True)\n",
    "import plotly.graph_objs as go\n",
    "import plotly.figure_factory as ff\n",
    "import plotly.express as px"
   ]
  },
  {
   "cell_type": "markdown",
   "metadata": {},
   "source": [
    "## General Data Granularity"
   ]
  },
  {
   "cell_type": "markdown",
   "metadata": {},
   "source": [
    "We will mainly be using the data reported in th [MHSA County Plans provided by HCS (Health Care Services)](https://www.dhcs.ca.gov/services/MH/pages/mhsa-county-plans-and-updates.aspx)\n",
    "\n",
    "* [Nevada's 2022-2023 Annual Report](https://www.nevadacountyca.gov/DocumentCenter/View/43145/MHSA-Annual-Plan-Update-APU-for-Fiscal-Year-20222023?bidId=)\n",
    "    * CSS p.17\n",
    "    * MHSA & FSP Funding, p.53 - 54\n",
    "    * Demographics Context, \n",
    "* [Sacremento's 2022-2023 Annual Report](https://dhs.saccounty.gov/BHS/Documents/Reports--Workplans/MHSA-Reports-and-Workplans/RT-2022-23-MHSA-Annual-Update--Sacramento-County.pdf)\n",
    "    * MHSA Funding: p. 151 \n",
    "* [San Francisco's 2022-2023 Annual Report](https://www.sfdph.org/dph/files/CBHSdocs/MHSAdocs/FY2022-2023-Annual-Update.pdf)\n",
    "    * MHSA Funding: p. 183\n",
    "* [Los Angeles's 2022-2023 Annnual Report](https://dmh.lacounty.gov/wp-content/uploads/2023/01/MHSA-Annual-Update.pdf)\n",
    "    * MHSA Funding: p.24 - 28\n",
    "* [Orange's 2022-2023 Annual Report](https://ochealthinfo.com/sites/healthcare/files/2022-07/MHSA_2022-23_Plan_Public_Comment_v09.pdf)\n",
    "    * MHSA Funding: p.21 - 29\n",
    "* [San Diego's 2022-2023 Annual Report](https://www.sandiegocounty.gov/content/dam/sdc/hhsa/programs/bhs/documents/NOC/MHSA/COSD%20MHSA%20FY%2022-23%20Annual%20Update%20Final.pdf)\n",
    "    * MHSA Funding: p.44 - 40"
   ]
  },
  {
   "cell_type": "markdown",
   "metadata": {},
   "source": [
    "For all of the files we are going to read, whether it is excel file (xlsx), comma-seperated values (csv), we will be using the same path. Please feel free to change the path according to where you place this ipynb and data_county_plans folder. "
   ]
  },
  {
   "cell_type": "code",
   "execution_count": 106,
   "metadata": {},
   "outputs": [],
   "source": [
    "path = \"/Users/suminpark/Documents/GitHub/Data-Discovery/data_county_plans/\" "
   ]
  },
  {
   "cell_type": "markdown",
   "metadata": {},
   "source": [
    "## Nevada"
   ]
  },
  {
   "cell_type": "markdown",
   "metadata": {},
   "source": [
    "### **Data**"
   ]
  },
  {
   "cell_type": "markdown",
   "metadata": {},
   "source": [
    "Looking at  Community Services & Support (CSS) of Nevada"
   ]
  },
  {
   "cell_type": "code",
   "execution_count": 107,
   "metadata": {},
   "outputs": [],
   "source": [
    "nev_css = pd.read_excel(path + 'nev_css.xlsx', engine='openpyxl')\n",
    "# pip install openpysxl  -- if you do not have the version."
   ]
  },
  {
   "cell_type": "code",
   "execution_count": 108,
   "metadata": {},
   "outputs": [
    {
     "data": {
      "text/html": [
       "<div>\n",
       "<style scoped>\n",
       "    .dataframe tbody tr th:only-of-type {\n",
       "        vertical-align: middle;\n",
       "    }\n",
       "\n",
       "    .dataframe tbody tr th {\n",
       "        vertical-align: top;\n",
       "    }\n",
       "\n",
       "    .dataframe thead th {\n",
       "        text-align: right;\n",
       "    }\n",
       "</style>\n",
       "<table border=\"1\" class=\"dataframe\">\n",
       "  <thead>\n",
       "    <tr style=\"text-align: right;\">\n",
       "      <th></th>\n",
       "      <th>Age</th>\n",
       "      <th>#\\nServed in FSP</th>\n",
       "      <th>%of Total</th>\n",
       "      <th>Est. FSP\\ncost/age</th>\n",
       "      <th>#\\nServed in GSD</th>\n",
       "      <th>%of Total.1</th>\n",
       "      <th>Est. GSD\\ncost/age</th>\n",
       "      <th>#\\nServed in O&amp;E</th>\n",
       "      <th>%of Total.2</th>\n",
       "      <th>Est. O&amp;E cost/age</th>\n",
       "    </tr>\n",
       "  </thead>\n",
       "  <tbody>\n",
       "    <tr>\n",
       "      <th>0</th>\n",
       "      <td>Unknown Age</td>\n",
       "      <td>0</td>\n",
       "      <td>0.00</td>\n",
       "      <td>0</td>\n",
       "      <td>28</td>\n",
       "      <td>0.02</td>\n",
       "      <td>31585</td>\n",
       "      <td>520</td>\n",
       "      <td>0.480</td>\n",
       "      <td>204990</td>\n",
       "    </tr>\n",
       "    <tr>\n",
       "      <th>1</th>\n",
       "      <td>Children</td>\n",
       "      <td>101</td>\n",
       "      <td>0.43</td>\n",
       "      <td>1249421</td>\n",
       "      <td>191</td>\n",
       "      <td>0.11</td>\n",
       "      <td>215001</td>\n",
       "      <td>2</td>\n",
       "      <td>0.002</td>\n",
       "      <td>788</td>\n",
       "    </tr>\n",
       "    <tr>\n",
       "      <th>2</th>\n",
       "      <td>TAY</td>\n",
       "      <td>58</td>\n",
       "      <td>0.24</td>\n",
       "      <td>714659</td>\n",
       "      <td>315</td>\n",
       "      <td>0.18</td>\n",
       "      <td>355778</td>\n",
       "      <td>33</td>\n",
       "      <td>0.030</td>\n",
       "      <td>13009</td>\n",
       "    </tr>\n",
       "    <tr>\n",
       "      <th>3</th>\n",
       "      <td>Adults</td>\n",
       "      <td>51</td>\n",
       "      <td>0.21</td>\n",
       "      <td>628407</td>\n",
       "      <td>893</td>\n",
       "      <td>0.52</td>\n",
       "      <td>1007324</td>\n",
       "      <td>358</td>\n",
       "      <td>0.330</td>\n",
       "      <td>141128</td>\n",
       "    </tr>\n",
       "    <tr>\n",
       "      <th>4</th>\n",
       "      <td>Older Adults</td>\n",
       "      <td>27</td>\n",
       "      <td>0.11</td>\n",
       "      <td>332686</td>\n",
       "      <td>282</td>\n",
       "      <td>0.17</td>\n",
       "      <td>318102</td>\n",
       "      <td>180</td>\n",
       "      <td>0.160</td>\n",
       "      <td>70958</td>\n",
       "    </tr>\n",
       "    <tr>\n",
       "      <th>5</th>\n",
       "      <td>Total</td>\n",
       "      <td>237</td>\n",
       "      <td>1.00</td>\n",
       "      <td>2925173</td>\n",
       "      <td>1709</td>\n",
       "      <td>1.00</td>\n",
       "      <td>1927791</td>\n",
       "      <td>1093</td>\n",
       "      <td>1.000</td>\n",
       "      <td>430873</td>\n",
       "    </tr>\n",
       "  </tbody>\n",
       "</table>\n",
       "</div>"
      ],
      "text/plain": [
       "            Age  #\\nServed in FSP  %of Total  Est. FSP\\ncost/age  \\\n",
       "0   Unknown Age                 0       0.00                   0   \n",
       "1      Children               101       0.43             1249421   \n",
       "2           TAY                58       0.24              714659   \n",
       "3        Adults                51       0.21              628407   \n",
       "4  Older Adults                27       0.11              332686   \n",
       "5         Total               237       1.00             2925173   \n",
       "\n",
       "   #\\nServed in GSD  %of Total.1  Est. GSD\\ncost/age  #\\nServed in O&E  \\\n",
       "0                28         0.02               31585               520   \n",
       "1               191         0.11              215001                 2   \n",
       "2               315         0.18              355778                33   \n",
       "3               893         0.52             1007324               358   \n",
       "4               282         0.17              318102               180   \n",
       "5              1709         1.00             1927791              1093   \n",
       "\n",
       "   %of Total.2  Est. O&E cost/age  \n",
       "0        0.480             204990  \n",
       "1        0.002                788  \n",
       "2        0.030              13009  \n",
       "3        0.330             141128  \n",
       "4        0.160              70958  \n",
       "5        1.000             430873  "
      ]
     },
     "execution_count": 108,
     "metadata": {},
     "output_type": "execute_result"
    }
   ],
   "source": [
    "nev_css"
   ]
  },
  {
   "cell_type": "markdown",
   "metadata": {},
   "source": [
    "We tried to extract the MHSA Funding & Expenditures into excel/ csv files but the format was not converting so we decided to hard code them."
   ]
  },
  {
   "cell_type": "code",
   "execution_count": 109,
   "metadata": {},
   "outputs": [],
   "source": [
    "nev_mhsa_val = {\"Community Services and Supports\": [4120292, 5277456, 712272, 0, 8685476, 5481654, 3203822, 1111502, 0, 0, 111502], \"Prevention and Early Intervention\": [1390024, 1497432, None, None, 2887456, 1359856, 1527600, None, None, None, None], \"Innovation\": [1393457, 394061, None, None, 1787518, 547198, 1240320, None, None, None, None] , \"Workforce Education and Training\": [None, None, 112272, None, 112272, 112272, 0, None, None, None, None], \"Capital Facilities and Technological Needs\":[None, None, 600000, None, 600000, 600000, 0, None, None, None, None], \"Prudent Reserve\": [None, None, None, 0, None, None, None, None, None, None, None]}\n",
    "nev_mhsa_index = [\"Estimated Unspent Funds from Prior Fiscal Year\", \"Estimated New FY 2022/23 Funding\", \"Transfer in FY 2022/23a/\", \"Access Local Prudent Reserve in FY 2022/23\", \"Estimated Available Funding for FY 2023/23\", \"Estimated FY 2022/23 MHSA Expenditures\", \"Estimated FY 2022/23 Unspent Fund Balance\", \"Edtimated Local Prudent Reserve Balance on June 30, 2022\", \"Contributions to the Local Prudent Reserve in FY 2022/23\", \"Distributions from the Local Prudent Reserve in FY 2022/23\", \"Estimated Local Prudent Reserve Balance on June 30, 2023\"]\n",
    "nev_MHSA = pd.DataFrame(data = nev_mhsa_val, index = nev_mhsa_index)"
   ]
  },
  {
   "cell_type": "code",
   "execution_count": 110,
   "metadata": {},
   "outputs": [
    {
     "data": {
      "text/html": [
       "<div>\n",
       "<style scoped>\n",
       "    .dataframe tbody tr th:only-of-type {\n",
       "        vertical-align: middle;\n",
       "    }\n",
       "\n",
       "    .dataframe tbody tr th {\n",
       "        vertical-align: top;\n",
       "    }\n",
       "\n",
       "    .dataframe thead th {\n",
       "        text-align: right;\n",
       "    }\n",
       "</style>\n",
       "<table border=\"1\" class=\"dataframe\">\n",
       "  <thead>\n",
       "    <tr style=\"text-align: right;\">\n",
       "      <th></th>\n",
       "      <th>Community Services and Supports</th>\n",
       "      <th>Prevention and Early Intervention</th>\n",
       "      <th>Innovation</th>\n",
       "      <th>Workforce Education and Training</th>\n",
       "      <th>Capital Facilities and Technological Needs</th>\n",
       "      <th>Prudent Reserve</th>\n",
       "    </tr>\n",
       "  </thead>\n",
       "  <tbody>\n",
       "    <tr>\n",
       "      <th>Estimated Unspent Funds from Prior Fiscal Year</th>\n",
       "      <td>4120292</td>\n",
       "      <td>1390024.0</td>\n",
       "      <td>1393457.0</td>\n",
       "      <td>NaN</td>\n",
       "      <td>NaN</td>\n",
       "      <td>NaN</td>\n",
       "    </tr>\n",
       "    <tr>\n",
       "      <th>Estimated New FY 2022/23 Funding</th>\n",
       "      <td>5277456</td>\n",
       "      <td>1497432.0</td>\n",
       "      <td>394061.0</td>\n",
       "      <td>NaN</td>\n",
       "      <td>NaN</td>\n",
       "      <td>NaN</td>\n",
       "    </tr>\n",
       "    <tr>\n",
       "      <th>Transfer in FY 2022/23a/</th>\n",
       "      <td>712272</td>\n",
       "      <td>NaN</td>\n",
       "      <td>NaN</td>\n",
       "      <td>112272.0</td>\n",
       "      <td>600000.0</td>\n",
       "      <td>NaN</td>\n",
       "    </tr>\n",
       "    <tr>\n",
       "      <th>Access Local Prudent Reserve in FY 2022/23</th>\n",
       "      <td>0</td>\n",
       "      <td>NaN</td>\n",
       "      <td>NaN</td>\n",
       "      <td>NaN</td>\n",
       "      <td>NaN</td>\n",
       "      <td>0.0</td>\n",
       "    </tr>\n",
       "    <tr>\n",
       "      <th>Estimated Available Funding for FY 2023/23</th>\n",
       "      <td>8685476</td>\n",
       "      <td>2887456.0</td>\n",
       "      <td>1787518.0</td>\n",
       "      <td>112272.0</td>\n",
       "      <td>600000.0</td>\n",
       "      <td>NaN</td>\n",
       "    </tr>\n",
       "  </tbody>\n",
       "</table>\n",
       "</div>"
      ],
      "text/plain": [
       "                                                Community Services and Supports  \\\n",
       "Estimated Unspent Funds from Prior Fiscal Year                          4120292   \n",
       "Estimated New FY 2022/23 Funding                                        5277456   \n",
       "Transfer in FY 2022/23a/                                                 712272   \n",
       "Access Local Prudent Reserve in FY 2022/23                                    0   \n",
       "Estimated Available Funding for FY 2023/23                              8685476   \n",
       "\n",
       "                                                Prevention and Early Intervention  \\\n",
       "Estimated Unspent Funds from Prior Fiscal Year                          1390024.0   \n",
       "Estimated New FY 2022/23 Funding                                        1497432.0   \n",
       "Transfer in FY 2022/23a/                                                      NaN   \n",
       "Access Local Prudent Reserve in FY 2022/23                                    NaN   \n",
       "Estimated Available Funding for FY 2023/23                              2887456.0   \n",
       "\n",
       "                                                Innovation  \\\n",
       "Estimated Unspent Funds from Prior Fiscal Year   1393457.0   \n",
       "Estimated New FY 2022/23 Funding                  394061.0   \n",
       "Transfer in FY 2022/23a/                               NaN   \n",
       "Access Local Prudent Reserve in FY 2022/23             NaN   \n",
       "Estimated Available Funding for FY 2023/23       1787518.0   \n",
       "\n",
       "                                                Workforce Education and Training  \\\n",
       "Estimated Unspent Funds from Prior Fiscal Year                               NaN   \n",
       "Estimated New FY 2022/23 Funding                                             NaN   \n",
       "Transfer in FY 2022/23a/                                                112272.0   \n",
       "Access Local Prudent Reserve in FY 2022/23                                   NaN   \n",
       "Estimated Available Funding for FY 2023/23                              112272.0   \n",
       "\n",
       "                                                Capital Facilities and Technological Needs  \\\n",
       "Estimated Unspent Funds from Prior Fiscal Year                                         NaN   \n",
       "Estimated New FY 2022/23 Funding                                                       NaN   \n",
       "Transfer in FY 2022/23a/                                                          600000.0   \n",
       "Access Local Prudent Reserve in FY 2022/23                                             NaN   \n",
       "Estimated Available Funding for FY 2023/23                                        600000.0   \n",
       "\n",
       "                                                Prudent Reserve  \n",
       "Estimated Unspent Funds from Prior Fiscal Year              NaN  \n",
       "Estimated New FY 2022/23 Funding                            NaN  \n",
       "Transfer in FY 2022/23a/                                    NaN  \n",
       "Access Local Prudent Reserve in FY 2022/23                  0.0  \n",
       "Estimated Available Funding for FY 2023/23                  NaN  "
      ]
     },
     "execution_count": 110,
     "metadata": {},
     "output_type": "execute_result"
    }
   ],
   "source": [
    "nev_MHSA.head(5)"
   ]
  },
  {
   "cell_type": "code",
   "execution_count": 111,
   "metadata": {},
   "outputs": [
    {
     "data": {
      "text/html": [
       "<div>\n",
       "<style scoped>\n",
       "    .dataframe tbody tr th:only-of-type {\n",
       "        vertical-align: middle;\n",
       "    }\n",
       "\n",
       "    .dataframe tbody tr th {\n",
       "        vertical-align: top;\n",
       "    }\n",
       "\n",
       "    .dataframe thead th {\n",
       "        text-align: right;\n",
       "    }\n",
       "</style>\n",
       "<table border=\"1\" class=\"dataframe\">\n",
       "  <thead>\n",
       "    <tr style=\"text-align: right;\">\n",
       "      <th></th>\n",
       "      <th>Unnamed: 0</th>\n",
       "      <th>Estimated Total Mental Health Expenditures</th>\n",
       "      <th>Estimated CSS\\nFunding</th>\n",
       "      <th>Estimated Medi CalFFP</th>\n",
       "      <th>Estimated 1991 Realignment</th>\n",
       "      <th>Estimated Behavioral Health\\nSubaccount</th>\n",
       "      <th>Estimated Other Funding</th>\n",
       "      <th>Unnamed: 7</th>\n",
       "    </tr>\n",
       "  </thead>\n",
       "  <tbody>\n",
       "    <tr>\n",
       "      <th>0</th>\n",
       "      <td>FSP Programs</td>\n",
       "      <td>NaN</td>\n",
       "      <td>NaN</td>\n",
       "      <td>NaN</td>\n",
       "      <td>NaN</td>\n",
       "      <td>NaN</td>\n",
       "      <td>NaN</td>\n",
       "      <td>NaN</td>\n",
       "    </tr>\n",
       "    <tr>\n",
       "      <th>1</th>\n",
       "      <td>1. Children's FSP</td>\n",
       "      <td>2.857795e+06</td>\n",
       "      <td>1329697.0</td>\n",
       "      <td>1513098.0</td>\n",
       "      <td>NaN</td>\n",
       "      <td>0.0</td>\n",
       "      <td>15000.0</td>\n",
       "      <td>NaN</td>\n",
       "    </tr>\n",
       "    <tr>\n",
       "      <th>2</th>\n",
       "      <td>2. Adult FSP</td>\n",
       "      <td>4.041083e+06</td>\n",
       "      <td>1595476.0</td>\n",
       "      <td>2274255.0</td>\n",
       "      <td>NaN</td>\n",
       "      <td>0.0</td>\n",
       "      <td>171352.0</td>\n",
       "      <td>NaN</td>\n",
       "    </tr>\n",
       "    <tr>\n",
       "      <th>3</th>\n",
       "      <td>Non-FSP Programs: General System Development</td>\n",
       "      <td>NaN</td>\n",
       "      <td>NaN</td>\n",
       "      <td>NaN</td>\n",
       "      <td>NaN</td>\n",
       "      <td>NaN</td>\n",
       "      <td>NaN</td>\n",
       "      <td>NaN</td>\n",
       "    </tr>\n",
       "    <tr>\n",
       "      <th>4</th>\n",
       "      <td>1. Expand Network Provider</td>\n",
       "      <td>1.560000e+05</td>\n",
       "      <td>60414.0</td>\n",
       "      <td>95586.0</td>\n",
       "      <td>NaN</td>\n",
       "      <td>0.0</td>\n",
       "      <td>NaN</td>\n",
       "      <td></td>\n",
       "    </tr>\n",
       "    <tr>\n",
       "      <th>5</th>\n",
       "      <td>2. Expand Adult and Children's Behavioral Heal...</td>\n",
       "      <td>1.231330e+06</td>\n",
       "      <td>442609.0</td>\n",
       "      <td>701523.0</td>\n",
       "      <td>0.0</td>\n",
       "      <td>0.0</td>\n",
       "      <td>87198.0</td>\n",
       "      <td>NaN</td>\n",
       "    </tr>\n",
       "    <tr>\n",
       "      <th>6</th>\n",
       "      <td>3. Expand Crisis and Mobile Crisis Interventio...</td>\n",
       "      <td>7.758490e+05</td>\n",
       "      <td>428169.0</td>\n",
       "      <td>272908.0</td>\n",
       "      <td>0.0</td>\n",
       "      <td>0.0</td>\n",
       "      <td>74772.0</td>\n",
       "      <td>NaN</td>\n",
       "    </tr>\n",
       "    <tr>\n",
       "      <th>7</th>\n",
       "      <td>4. Emergency Department Outreach and Engagement</td>\n",
       "      <td>9.976900e+04</td>\n",
       "      <td>99769.0</td>\n",
       "      <td>NaN</td>\n",
       "      <td>NaN</td>\n",
       "      <td>NaN</td>\n",
       "      <td>NaN</td>\n",
       "      <td>NaN</td>\n",
       "    </tr>\n",
       "    <tr>\n",
       "      <th>8</th>\n",
       "      <td>5. Intensive Services for  Youth</td>\n",
       "      <td>9.934190e+05</td>\n",
       "      <td>412619.0</td>\n",
       "      <td>560800.0</td>\n",
       "      <td>NaN</td>\n",
       "      <td>0.0</td>\n",
       "      <td>20000.0</td>\n",
       "      <td>NaN</td>\n",
       "    </tr>\n",
       "    <tr>\n",
       "      <th>9</th>\n",
       "      <td>6. Alternative Early Intervention for Youth an...</td>\n",
       "      <td>1.269870e+05</td>\n",
       "      <td>35251.0</td>\n",
       "      <td>91736.0</td>\n",
       "      <td>NaN</td>\n",
       "      <td>0.0</td>\n",
       "      <td>NaN</td>\n",
       "      <td>NaN</td>\n",
       "    </tr>\n",
       "    <tr>\n",
       "      <th>10</th>\n",
       "      <td>7. Family Education and Support</td>\n",
       "      <td>3.069500e+04</td>\n",
       "      <td>30695.0</td>\n",
       "      <td>NaN</td>\n",
       "      <td>NaN</td>\n",
       "      <td>NaN</td>\n",
       "      <td>NaN</td>\n",
       "      <td>NaN</td>\n",
       "    </tr>\n",
       "    <tr>\n",
       "      <th>11</th>\n",
       "      <td>8. Tahoe Truckee Case Management</td>\n",
       "      <td>1.026230e+05</td>\n",
       "      <td>71710.0</td>\n",
       "      <td>30913.0</td>\n",
       "      <td>NaN</td>\n",
       "      <td>NaN</td>\n",
       "      <td>NaN</td>\n",
       "      <td>NaN</td>\n",
       "    </tr>\n",
       "    <tr>\n",
       "      <th>12</th>\n",
       "      <td>9. Project Based Housing</td>\n",
       "      <td>2.500000e+05</td>\n",
       "      <td>250000.0</td>\n",
       "      <td>NaN</td>\n",
       "      <td>NaN</td>\n",
       "      <td>NaN</td>\n",
       "      <td>NaN</td>\n",
       "      <td>NaN</td>\n",
       "    </tr>\n",
       "    <tr>\n",
       "      <th>13</th>\n",
       "      <td>Non-FSP Programs: Outreach &amp; Engagement</td>\n",
       "      <td>NaN</td>\n",
       "      <td>NaN</td>\n",
       "      <td>NaN</td>\n",
       "      <td>NaN</td>\n",
       "      <td>NaN</td>\n",
       "      <td>NaN</td>\n",
       "      <td>NaN</td>\n",
       "    </tr>\n",
       "    <tr>\n",
       "      <th>14</th>\n",
       "      <td>1.  Expanded Mental Health Services in North S...</td>\n",
       "      <td>8.085000e+03</td>\n",
       "      <td>8085.0</td>\n",
       "      <td>NaN</td>\n",
       "      <td>NaN</td>\n",
       "      <td>NaN</td>\n",
       "      <td>NaN</td>\n",
       "      <td>NaN</td>\n",
       "    </tr>\n",
       "    <tr>\n",
       "      <th>15</th>\n",
       "      <td>2. Illness</td>\n",
       "      <td>1.320400e+05</td>\n",
       "      <td>97445.0</td>\n",
       "      <td>34595.0</td>\n",
       "      <td>NaN</td>\n",
       "      <td>NaN</td>\n",
       "      <td>NaN</td>\n",
       "      <td>NaN</td>\n",
       "    </tr>\n",
       "    <tr>\n",
       "      <th>16</th>\n",
       "      <td>3. Forensic liaison</td>\n",
       "      <td>6.930000e+04</td>\n",
       "      <td>69300.0</td>\n",
       "      <td>NaN</td>\n",
       "      <td>NaN</td>\n",
       "      <td>NaN</td>\n",
       "      <td>NaN</td>\n",
       "      <td>NaN</td>\n",
       "    </tr>\n",
       "    <tr>\n",
       "      <th>17</th>\n",
       "      <td>4. Veterans' Services &amp; Therapy</td>\n",
       "      <td>5.244500e+04</td>\n",
       "      <td>52445.0</td>\n",
       "      <td>NaN</td>\n",
       "      <td>NaN</td>\n",
       "      <td>NaN</td>\n",
       "      <td>NaN</td>\n",
       "      <td>NaN</td>\n",
       "    </tr>\n",
       "    <tr>\n",
       "      <th>18</th>\n",
       "      <td>5. Adult Wellness Center &amp; Peer Support Training</td>\n",
       "      <td>2.035980e+05</td>\n",
       "      <td>203598.0</td>\n",
       "      <td>NaN</td>\n",
       "      <td>NaN</td>\n",
       "      <td>NaN</td>\n",
       "      <td>NaN</td>\n",
       "      <td>NaN</td>\n",
       "    </tr>\n",
       "    <tr>\n",
       "      <th>19</th>\n",
       "      <td>6. Housing and Supportive Services to the Seve...</td>\n",
       "      <td>9.655500e+04</td>\n",
       "      <td>96555.0</td>\n",
       "      <td>NaN</td>\n",
       "      <td>NaN</td>\n",
       "      <td>NaN</td>\n",
       "      <td>0.0</td>\n",
       "      <td>NaN</td>\n",
       "    </tr>\n",
       "    <tr>\n",
       "      <th>20</th>\n",
       "      <td>CSS Administration</td>\n",
       "      <td>2.303400e+05</td>\n",
       "      <td>197817.0</td>\n",
       "      <td>32523.0</td>\n",
       "      <td>NaN</td>\n",
       "      <td>NaN</td>\n",
       "      <td>NaN</td>\n",
       "      <td>NaN</td>\n",
       "    </tr>\n",
       "    <tr>\n",
       "      <th>21</th>\n",
       "      <td>CSS MHSA Housing Program Assigned Funds</td>\n",
       "      <td>0.000000e+00</td>\n",
       "      <td>0.0</td>\n",
       "      <td>0.0</td>\n",
       "      <td>0.0</td>\n",
       "      <td>0.0</td>\n",
       "      <td>0.0</td>\n",
       "      <td>NaN</td>\n",
       "    </tr>\n",
       "    <tr>\n",
       "      <th>22</th>\n",
       "      <td>Total CSS Pro2ram Estimated Exoenditures</td>\n",
       "      <td>1.145791e+07</td>\n",
       "      <td>5481654.0</td>\n",
       "      <td>5607937.0</td>\n",
       "      <td>0.0</td>\n",
       "      <td>0.0</td>\n",
       "      <td>368322.0</td>\n",
       "      <td>NaN</td>\n",
       "    </tr>\n",
       "    <tr>\n",
       "      <th>23</th>\n",
       "      <td>FSP Pro2rams as Percent of Total</td>\n",
       "      <td>6.140000e-01</td>\n",
       "      <td>NaN</td>\n",
       "      <td>NaN</td>\n",
       "      <td>NaN</td>\n",
       "      <td>NaN</td>\n",
       "      <td>NaN</td>\n",
       "      <td>NaN</td>\n",
       "    </tr>\n",
       "  </tbody>\n",
       "</table>\n",
       "</div>"
      ],
      "text/plain": [
       "                                           Unnamed: 0  \\\n",
       "0                                        FSP Programs   \n",
       "1                                   1. Children's FSP   \n",
       "2                                        2. Adult FSP   \n",
       "3        Non-FSP Programs: General System Development   \n",
       "4                          1. Expand Network Provider   \n",
       "5   2. Expand Adult and Children's Behavioral Heal...   \n",
       "6   3. Expand Crisis and Mobile Crisis Interventio...   \n",
       "7     4. Emergency Department Outreach and Engagement   \n",
       "8                    5. Intensive Services for  Youth   \n",
       "9   6. Alternative Early Intervention for Youth an...   \n",
       "10                    7. Family Education and Support   \n",
       "11                   8. Tahoe Truckee Case Management   \n",
       "12                           9. Project Based Housing   \n",
       "13            Non-FSP Programs: Outreach & Engagement   \n",
       "14  1.  Expanded Mental Health Services in North S...   \n",
       "15                                         2. Illness   \n",
       "16                                3. Forensic liaison   \n",
       "17                    4. Veterans' Services & Therapy   \n",
       "18   5. Adult Wellness Center & Peer Support Training   \n",
       "19  6. Housing and Supportive Services to the Seve...   \n",
       "20                                 CSS Administration   \n",
       "21            CSS MHSA Housing Program Assigned Funds   \n",
       "22           Total CSS Pro2ram Estimated Exoenditures   \n",
       "23                   FSP Pro2rams as Percent of Total   \n",
       "\n",
       "    Estimated Total Mental Health Expenditures  Estimated CSS\\nFunding  \\\n",
       "0                                          NaN                     NaN   \n",
       "1                                 2.857795e+06               1329697.0   \n",
       "2                                 4.041083e+06               1595476.0   \n",
       "3                                          NaN                     NaN   \n",
       "4                                 1.560000e+05                 60414.0   \n",
       "5                                 1.231330e+06                442609.0   \n",
       "6                                 7.758490e+05                428169.0   \n",
       "7                                 9.976900e+04                 99769.0   \n",
       "8                                 9.934190e+05                412619.0   \n",
       "9                                 1.269870e+05                 35251.0   \n",
       "10                                3.069500e+04                 30695.0   \n",
       "11                                1.026230e+05                 71710.0   \n",
       "12                                2.500000e+05                250000.0   \n",
       "13                                         NaN                     NaN   \n",
       "14                                8.085000e+03                  8085.0   \n",
       "15                                1.320400e+05                 97445.0   \n",
       "16                                6.930000e+04                 69300.0   \n",
       "17                                5.244500e+04                 52445.0   \n",
       "18                                2.035980e+05                203598.0   \n",
       "19                                9.655500e+04                 96555.0   \n",
       "20                                2.303400e+05                197817.0   \n",
       "21                                0.000000e+00                     0.0   \n",
       "22                                1.145791e+07               5481654.0   \n",
       "23                                6.140000e-01                     NaN   \n",
       "\n",
       "    Estimated Medi CalFFP  Estimated 1991 Realignment  \\\n",
       "0                     NaN                         NaN   \n",
       "1               1513098.0                         NaN   \n",
       "2               2274255.0                         NaN   \n",
       "3                     NaN                         NaN   \n",
       "4                 95586.0                         NaN   \n",
       "5                701523.0                         0.0   \n",
       "6                272908.0                         0.0   \n",
       "7                     NaN                         NaN   \n",
       "8                560800.0                         NaN   \n",
       "9                 91736.0                         NaN   \n",
       "10                    NaN                         NaN   \n",
       "11                30913.0                         NaN   \n",
       "12                    NaN                         NaN   \n",
       "13                    NaN                         NaN   \n",
       "14                    NaN                         NaN   \n",
       "15                34595.0                         NaN   \n",
       "16                    NaN                         NaN   \n",
       "17                    NaN                         NaN   \n",
       "18                    NaN                         NaN   \n",
       "19                    NaN                         NaN   \n",
       "20                32523.0                         NaN   \n",
       "21                    0.0                         0.0   \n",
       "22              5607937.0                         0.0   \n",
       "23                    NaN                         NaN   \n",
       "\n",
       "    Estimated Behavioral Health\\nSubaccount  Estimated Other Funding  \\\n",
       "0                                       NaN                      NaN   \n",
       "1                                       0.0                  15000.0   \n",
       "2                                       0.0                 171352.0   \n",
       "3                                       NaN                      NaN   \n",
       "4                                       0.0                      NaN   \n",
       "5                                       0.0                  87198.0   \n",
       "6                                       0.0                  74772.0   \n",
       "7                                       NaN                      NaN   \n",
       "8                                       0.0                  20000.0   \n",
       "9                                       0.0                      NaN   \n",
       "10                                      NaN                      NaN   \n",
       "11                                      NaN                      NaN   \n",
       "12                                      NaN                      NaN   \n",
       "13                                      NaN                      NaN   \n",
       "14                                      NaN                      NaN   \n",
       "15                                      NaN                      NaN   \n",
       "16                                      NaN                      NaN   \n",
       "17                                      NaN                      NaN   \n",
       "18                                      NaN                      NaN   \n",
       "19                                      NaN                      0.0   \n",
       "20                                      NaN                      NaN   \n",
       "21                                      0.0                      0.0   \n",
       "22                                      0.0                 368322.0   \n",
       "23                                      NaN                      NaN   \n",
       "\n",
       "   Unnamed: 7  \n",
       "0         NaN  \n",
       "1         NaN  \n",
       "2         NaN  \n",
       "3         NaN  \n",
       "4              \n",
       "5         NaN  \n",
       "6         NaN  \n",
       "7         NaN  \n",
       "8         NaN  \n",
       "9         NaN  \n",
       "10        NaN  \n",
       "11        NaN  \n",
       "12        NaN  \n",
       "13        NaN  \n",
       "14        NaN  \n",
       "15        NaN  \n",
       "16        NaN  \n",
       "17        NaN  \n",
       "18        NaN  \n",
       "19        NaN  \n",
       "20        NaN  \n",
       "21        NaN  \n",
       "22        NaN  \n",
       "23        NaN  "
      ]
     },
     "execution_count": 111,
     "metadata": {},
     "output_type": "execute_result"
    }
   ],
   "source": [
    "nev_fsp = pd.read_excel(path + 'nev_FSP.xlsx', engine='openpyxl')\n",
    "nev_fsp"
   ]
  },
  {
   "cell_type": "markdown",
   "metadata": {},
   "source": [
    "The context of the homeless population was hardcoded (inputted manually) by the following County Report. Note that in the County Report, they used combination of **Homesless Management Information System (HMIS)** and **2018 Point In Time (PIT) Count**. Refer further through [Nevada County Report (p33)](https://www.nevadacountyca.gov/DocumentCenter/View/43145/MHSA-Annual-Plan-Update-APU-for-Fiscal-Year-20222023?bidId=). \n",
    "\n",
    "The DataFrame below will contain the following information.\n",
    "* Total count of homeless => PIT Count: 272 & HMIS Count: 475.\n",
    "* PIT Count Survey \n",
    "    *  43% Physical Disability\n",
    "    *  41% Chronic Health Condition\n",
    "    *  46% Mental Health Disorder\n",
    "    *  70% Criminal Justice Involvement \n",
    "    *  44% Chronically Homeless"
   ]
  },
  {
   "cell_type": "code",
   "execution_count": 115,
   "metadata": {},
   "outputs": [
    {
     "data": {
      "text/html": [
       "<div>\n",
       "<style scoped>\n",
       "    .dataframe tbody tr th:only-of-type {\n",
       "        vertical-align: middle;\n",
       "    }\n",
       "\n",
       "    .dataframe tbody tr th {\n",
       "        vertical-align: top;\n",
       "    }\n",
       "\n",
       "    .dataframe thead th {\n",
       "        text-align: right;\n",
       "    }\n",
       "</style>\n",
       "<table border=\"1\" class=\"dataframe\">\n",
       "  <thead>\n",
       "    <tr style=\"text-align: right;\">\n",
       "      <th></th>\n",
       "      <th>Count_Type</th>\n",
       "      <th>Total_Homeless</th>\n",
       "      <th>Physical_Disability</th>\n",
       "      <th>Chronic_Health_Condition</th>\n",
       "      <th>Mental_Health_Disorder</th>\n",
       "      <th>Criminal_Justice_Involvement</th>\n",
       "      <th>Chronically_Homeless</th>\n",
       "    </tr>\n",
       "  </thead>\n",
       "  <tbody>\n",
       "    <tr>\n",
       "      <th>0</th>\n",
       "      <td>PIT</td>\n",
       "      <td>272</td>\n",
       "      <td>116.96</td>\n",
       "      <td>111.52</td>\n",
       "      <td>125.12</td>\n",
       "      <td>190.4</td>\n",
       "      <td>119.68</td>\n",
       "    </tr>\n",
       "    <tr>\n",
       "      <th>1</th>\n",
       "      <td>HMIS</td>\n",
       "      <td>475</td>\n",
       "      <td>NaN</td>\n",
       "      <td>NaN</td>\n",
       "      <td>NaN</td>\n",
       "      <td>NaN</td>\n",
       "      <td>NaN</td>\n",
       "    </tr>\n",
       "  </tbody>\n",
       "</table>\n",
       "</div>"
      ],
      "text/plain": [
       "  Count_Type  Total_Homeless  Physical_Disability  Chronic_Health_Condition  \\\n",
       "0        PIT             272               116.96                    111.52   \n",
       "1       HMIS             475                  NaN                       NaN   \n",
       "\n",
       "   Mental_Health_Disorder  Criminal_Justice_Involvement  Chronically_Homeless  \n",
       "0                  125.12                         190.4                119.68  \n",
       "1                     NaN                           NaN                   NaN  "
      ]
     },
     "execution_count": 115,
     "metadata": {},
     "output_type": "execute_result"
    }
   ],
   "source": [
    "nevada_homeless_df = pd.DataFrame({\n",
    "    'Count_Type': ['PIT', 'HMIS'],\n",
    "    'Total_Homeless': [272, 475],\n",
    "    'Physical_Disability': [0.43 * 272, None],  # 43% of the PIT Count\n",
    "    'Chronic_Health_Condition': [0.41 * 272, None],  # 41% of the PIT Count\n",
    "    'Mental_Health_Disorder': [0.46 * 272, None],  # 46% of the PIT Count\n",
    "    'Criminal_Justice_Involvement': [0.70 * 272, None],  # 70% of the PIT Count\n",
    "    'Chronically_Homeless': [0.44 * 272, None]  # 44% of the PIT Count\n",
    "})\n",
    "\n",
    "nevada_homeless_df"
   ]
  },
  {
   "cell_type": "markdown",
   "metadata": {},
   "source": [
    "### **Data Cleaning**"
   ]
  },
  {
   "cell_type": "code",
   "execution_count": null,
   "metadata": {},
   "outputs": [],
   "source": []
  },
  {
   "cell_type": "markdown",
   "metadata": {},
   "source": [
    "### **Exploratory Data Analysis** "
   ]
  },
  {
   "cell_type": "code",
   "execution_count": null,
   "metadata": {},
   "outputs": [],
   "source": []
  },
  {
   "cell_type": "markdown",
   "metadata": {},
   "source": [
    "### **Data Visualization**"
   ]
  },
  {
   "cell_type": "markdown",
   "metadata": {},
   "source": []
  },
  {
   "cell_type": "markdown",
   "metadata": {},
   "source": [
    "### **Conclusion**"
   ]
  },
  {
   "cell_type": "markdown",
   "metadata": {},
   "source": []
  },
  {
   "cell_type": "markdown",
   "metadata": {},
   "source": [
    "## Sacremento"
   ]
  },
  {
   "cell_type": "markdown",
   "metadata": {},
   "source": [
    "### **Data**"
   ]
  },
  {
   "cell_type": "markdown",
   "metadata": {},
   "source": []
  },
  {
   "cell_type": "markdown",
   "metadata": {},
   "source": [
    "### **Data Cleaning**"
   ]
  },
  {
   "cell_type": "code",
   "execution_count": null,
   "metadata": {},
   "outputs": [],
   "source": []
  },
  {
   "cell_type": "markdown",
   "metadata": {},
   "source": [
    "### **Exploratory Data Analysis** "
   ]
  },
  {
   "cell_type": "code",
   "execution_count": null,
   "metadata": {},
   "outputs": [],
   "source": []
  },
  {
   "cell_type": "markdown",
   "metadata": {},
   "source": [
    "### **Data Visualization** "
   ]
  },
  {
   "cell_type": "markdown",
   "metadata": {},
   "source": []
  },
  {
   "cell_type": "markdown",
   "metadata": {},
   "source": [
    "### **Conclusion**"
   ]
  },
  {
   "cell_type": "markdown",
   "metadata": {},
   "source": []
  },
  {
   "cell_type": "markdown",
   "metadata": {},
   "source": [
    "## San Francisco "
   ]
  },
  {
   "cell_type": "markdown",
   "metadata": {},
   "source": [
    "### **Data**"
   ]
  },
  {
   "cell_type": "code",
   "execution_count": null,
   "metadata": {},
   "outputs": [],
   "source": []
  },
  {
   "cell_type": "markdown",
   "metadata": {},
   "source": [
    "### **Data Cleaning**"
   ]
  },
  {
   "cell_type": "code",
   "execution_count": null,
   "metadata": {},
   "outputs": [],
   "source": []
  },
  {
   "cell_type": "markdown",
   "metadata": {},
   "source": [
    "### **EDA**"
   ]
  },
  {
   "cell_type": "code",
   "execution_count": null,
   "metadata": {},
   "outputs": [],
   "source": []
  },
  {
   "cell_type": "markdown",
   "metadata": {},
   "source": [
    "### **Data Visualization**"
   ]
  },
  {
   "cell_type": "code",
   "execution_count": null,
   "metadata": {},
   "outputs": [],
   "source": []
  },
  {
   "cell_type": "markdown",
   "metadata": {},
   "source": [
    "### **Conclusion**"
   ]
  },
  {
   "cell_type": "code",
   "execution_count": null,
   "metadata": {},
   "outputs": [],
   "source": []
  },
  {
   "cell_type": "markdown",
   "metadata": {},
   "source": [
    "## Los Angeles"
   ]
  },
  {
   "cell_type": "markdown",
   "metadata": {},
   "source": [
    "### **Data**"
   ]
  },
  {
   "cell_type": "code",
   "execution_count": null,
   "metadata": {},
   "outputs": [],
   "source": []
  },
  {
   "cell_type": "markdown",
   "metadata": {},
   "source": [
    "### **Data Cleaning**"
   ]
  },
  {
   "cell_type": "code",
   "execution_count": null,
   "metadata": {},
   "outputs": [],
   "source": []
  },
  {
   "cell_type": "markdown",
   "metadata": {},
   "source": [
    "### **EDA**"
   ]
  },
  {
   "cell_type": "code",
   "execution_count": null,
   "metadata": {},
   "outputs": [],
   "source": []
  },
  {
   "cell_type": "markdown",
   "metadata": {},
   "source": [
    "### **Data Visualization**"
   ]
  },
  {
   "cell_type": "code",
   "execution_count": null,
   "metadata": {},
   "outputs": [],
   "source": []
  },
  {
   "cell_type": "markdown",
   "metadata": {},
   "source": [
    "### **Conclusion**"
   ]
  },
  {
   "cell_type": "code",
   "execution_count": null,
   "metadata": {},
   "outputs": [],
   "source": []
  },
  {
   "cell_type": "markdown",
   "metadata": {},
   "source": [
    "## Orange"
   ]
  },
  {
   "cell_type": "markdown",
   "metadata": {},
   "source": [
    "### **Data**"
   ]
  },
  {
   "cell_type": "code",
   "execution_count": null,
   "metadata": {},
   "outputs": [],
   "source": []
  },
  {
   "cell_type": "markdown",
   "metadata": {},
   "source": [
    "### **Data Cleaning**"
   ]
  },
  {
   "cell_type": "code",
   "execution_count": null,
   "metadata": {},
   "outputs": [],
   "source": []
  },
  {
   "cell_type": "markdown",
   "metadata": {},
   "source": [
    "### **EDA**"
   ]
  },
  {
   "cell_type": "code",
   "execution_count": null,
   "metadata": {},
   "outputs": [],
   "source": []
  },
  {
   "cell_type": "markdown",
   "metadata": {},
   "source": [
    "### **Data Visualization**"
   ]
  },
  {
   "cell_type": "code",
   "execution_count": null,
   "metadata": {},
   "outputs": [],
   "source": []
  },
  {
   "cell_type": "markdown",
   "metadata": {},
   "source": [
    "### **Conclusion**"
   ]
  },
  {
   "cell_type": "code",
   "execution_count": null,
   "metadata": {},
   "outputs": [],
   "source": []
  },
  {
   "cell_type": "markdown",
   "metadata": {},
   "source": [
    "## San Diego"
   ]
  },
  {
   "cell_type": "markdown",
   "metadata": {},
   "source": [
    "### **Data**"
   ]
  },
  {
   "cell_type": "code",
   "execution_count": null,
   "metadata": {},
   "outputs": [],
   "source": []
  },
  {
   "cell_type": "markdown",
   "metadata": {},
   "source": [
    "### **Data Cleaning**"
   ]
  },
  {
   "cell_type": "code",
   "execution_count": null,
   "metadata": {},
   "outputs": [],
   "source": []
  },
  {
   "cell_type": "markdown",
   "metadata": {},
   "source": [
    "### **EDA**"
   ]
  },
  {
   "cell_type": "code",
   "execution_count": null,
   "metadata": {},
   "outputs": [],
   "source": []
  },
  {
   "cell_type": "markdown",
   "metadata": {},
   "source": [
    "### **Data Visualization**"
   ]
  },
  {
   "cell_type": "code",
   "execution_count": null,
   "metadata": {},
   "outputs": [],
   "source": []
  },
  {
   "cell_type": "markdown",
   "metadata": {},
   "source": [
    "### **Conclusion**"
   ]
  },
  {
   "cell_type": "markdown",
   "metadata": {},
   "source": []
  }
 ],
 "metadata": {
  "kernelspec": {
   "display_name": "Python 3.9.0 64-bit",
   "language": "python",
   "name": "python3"
  },
  "language_info": {
   "codemirror_mode": {
    "name": "ipython",
    "version": 3
   },
   "file_extension": ".py",
   "mimetype": "text/x-python",
   "name": "python",
   "nbconvert_exporter": "python",
   "pygments_lexer": "ipython3",
   "version": "3.9.0"
  },
  "orig_nbformat": 4,
  "vscode": {
   "interpreter": {
    "hash": "aee8b7b246df8f9039afb4144a1f6fd8d2ca17a180786b69acc140d282b71a49"
   }
  }
 },
 "nbformat": 4,
 "nbformat_minor": 2
}
